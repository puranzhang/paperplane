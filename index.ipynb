{
 "cells": [
  {
   "cell_type": "markdown",
   "metadata": {},
   "source": [
    "# Key to a Successful Crowdfunding Campaign"
   ]
  },
  {
   "cell_type": "markdown",
   "metadata": {},
   "source": [
    "**[Project Proposal](#Project-Proposal) | [Data Sources](#Data-Sources) | Key Plots [1](#Key-Plot-1) , [2](#Key-Plot-2) | [Future Directions](#Future-Directions)| [More Plots](#More-Plots)**"
   ]
  },
  {
   "cell_type": "markdown",
   "metadata": {},
   "source": [
    "## Background\n",
    "<figure>\n",
    "  <img src=\"/img/kickstarter-logo-light.png\" alt=\"Kickstarter Logo\" width = \"1000\" height=\"117\">\n",
    "  <figcaption>Logo of Kickstarter</figcaption>\n",
    "</figure>\n",
    "\n",
    "Crowdfunding has become one of the main sources of initial capital for small businesses and start up companies that are looking to launch their first products. Websites like [Kickstart](https://www.kickstarter.com) and [Indiegogo](https://www.indiegogo.com/) provide a platform for millions of creators to present their innovative "
   ]
  },
  {
   "cell_type": "markdown",
   "metadata": {},
   "source": [
    "## Project Proposal\n"
   ]
  },
  {
   "cell_type": "markdown",
   "metadata": {},
   "source": [
    "[back to top](#)"
   ]
  },
  {
   "cell_type": "markdown",
   "metadata": {},
   "source": [
    "## Data Sources\n",
    "    Last updated: 2016-10-29 6pm PDT\n",
    "\n",
    "All of my raw data are scraped from [Kickstarter.com](https://www.kickstarter.com).\n",
    "\n",
    "There are currently two raw datasets:\n",
    "\n",
    "1. [First 4000 live projects](https://github.com/socathie/paperplane/blob/master/data/live.csv) that are currently campaigning on Kickstarter (scraped with Python [code](https://github.com/socathie/paperplane/blob/master/data/live.py) using BeautifulSoup)\n",
    "\n",
    "2. [Top 4000 most backed projects](https://github.com/socathie/paperplane/blob/master/data/most_backed.csv) ever on Kickstarter (scraped with this [code](https://github.com/socathie/paperplane/blob/master/data/most_backed.py))\n",
    "\n",
    "### Limitations\n",
    "\n",
    "#### *Kickstarter*\n",
    "The website has certain rules for generating urls. For each seed value, the page number only goes up to at most 200. Given there are 20 projects per page, we can only get **at most 4000 non-duplicated data entries per iteration**. Therefore, if we want to analyze all of the 300,000+ projects on Kickstarter, we would need to generate a lot more seed values with a mix of different sorting orders to obtain a much larger sample before removing duplicated entries.\n",
    "#### *Indiegogo*\n"
   ]
  },
  {
   "cell_type": "markdown",
   "metadata": {},
   "source": [
    "[back to top](#)"
   ]
  },
  {
   "cell_type": "markdown",
   "metadata": {},
   "source": [
    "## Key Plot 1\n",
    "### "
   ]
  },
  {
   "cell_type": "markdown",
   "metadata": {},
   "source": [
    "[back to top](#)"
   ]
  },
  {
   "cell_type": "markdown",
   "metadata": {},
   "source": [
    "## Key Plot 2\n",
    "### "
   ]
  },
  {
   "cell_type": "markdown",
   "metadata": {},
   "source": [
    "[back to top](#)"
   ]
  },
  {
   "cell_type": "markdown",
   "metadata": {},
   "source": [
    "## Future Directions\n"
   ]
  },
  {
   "cell_type": "markdown",
   "metadata": {},
   "source": [
    "[back to top](#)"
   ]
  },
  {
   "cell_type": "markdown",
   "metadata": {},
   "source": [
    "## More Plots"
   ]
  },
  {
   "cell_type": "markdown",
   "metadata": {},
   "source": [
    "[back to top](#)"
   ]
  }
 ],
 "metadata": {
  "kernelspec": {
   "display_name": "Python 2",
   "language": "python",
   "name": "python2"
  },
  "language_info": {
   "codemirror_mode": {
    "name": "ipython",
    "version": 2
   },
   "file_extension": ".py",
   "mimetype": "text/x-python",
   "name": "python",
   "nbconvert_exporter": "python",
   "pygments_lexer": "ipython2",
   "version": "2.7.12"
  }
 },
 "nbformat": 4,
 "nbformat_minor": 1
}
