{
 "cells": [
  {
   "cell_type": "markdown",
   "metadata": {},
   "source": [
    "# Key to a Successful Crowdfunding Campaign"
   ]
  },
  {
   "cell_type": "markdown",
   "metadata": {},
   "source": [
    "## Background\n",
    "Crowdfunding has become one of the main sources of initial capital for small businesses and start up companies that are looking to launch their first products. "
   ]
  },
  {
   "cell_type": "markdown",
   "metadata": {},
   "source": [
    "## Project Proposal\n"
   ]
  },
  {
   "cell_type": "markdown",
   "metadata": {},
   "source": [
    "## Data Sources\n",
    "    Last updated: 2016-10-29 6pm PDT\n",
    "\n",
    "All of my raw data are scraped from [Kickstarter.com](https://www.kickstarter.com).\n",
    "\n",
    "There are currently two raw datasets:\n",
    "\n",
    "1. [First 4000 live projects](https://github.com/socathie/paperplane/blob/master/data/live.csv) that are currently campaigning on Kickstarter (scraped with Python [code](https://github.com/socathie/paperplane/blob/master/data/live.py) using BeautifulSoup)\n",
    "\n",
    "2. [Top 4000 most backed projects]() ever on Kickstarter (scraped with this [code](https://github.com/socathie/paperplane/blob/master/data/most_backed.py))\n",
    "\n",
    "### Limitations"
   ]
  },
  {
   "cell_type": "markdown",
   "metadata": {},
   "source": [
    "## Key Plot 1: "
   ]
  },
  {
   "cell_type": "markdown",
   "metadata": {},
   "source": [
    "## Key Plot 2: "
   ]
  },
  {
   "cell_type": "markdown",
   "metadata": {},
   "source": [
    "## Future Directions\n"
   ]
  },
  {
   "cell_type": "markdown",
   "metadata": {},
   "source": [
    "## Other Plots"
   ]
  }
 ],
 "metadata": {
  "kernelspec": {
   "display_name": "Python 2",
   "language": "python",
   "name": "python2"
  },
  "language_info": {
   "codemirror_mode": {
    "name": "ipython",
    "version": 2
   },
   "file_extension": ".py",
   "mimetype": "text/x-python",
   "name": "python",
   "nbconvert_exporter": "python",
   "pygments_lexer": "ipython2",
   "version": "2.7.12"
  }
 },
 "nbformat": 4,
 "nbformat_minor": 1
}
