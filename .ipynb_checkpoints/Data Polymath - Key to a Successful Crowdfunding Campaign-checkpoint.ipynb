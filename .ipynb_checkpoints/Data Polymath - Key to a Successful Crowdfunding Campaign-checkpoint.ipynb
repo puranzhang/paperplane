{
 "cells": [
  {
   "cell_type": "markdown",
   "metadata": {},
   "source": [
    "# Key to a Successful Crowdfunding Campaign"
   ]
  },
  {
   "cell_type": "markdown",
   "metadata": {},
   "source": [
    "**[Project Proposal](#Project-Proposal) | [Data Sources](#Data-Sources) | Key Plots [1](#Key-Plot-1) , [2](#Key-Plot-2) | [Future Directions](#Future-Directions)| [More Plots](#More-Plots)**"
   ]
  },
  {
   "cell_type": "markdown",
   "metadata": {},
   "source": [
    "## Background"
   ]
  },
  {
   "cell_type": "markdown",
   "metadata": {},
   "source": [
    "<div class=\"container\" style=\"width: 100%;\">\n",
    " <div class=\"theme-table-image col-sm-6\">\n",
    "   <img src=\"/img/kickstarter-logo-light.png\" alt=\"Kickstarter Logo\" width=\"400px\">\n",
    " </div>\n",
    " <div class=\"theme-table-image col-sm-6\">\n",
    "   <img src=\"/img/IGG_Logo_Frame_GOgenta_RGB.png\" alt=\"Indiegogo Logo\" width=\"400px\">\n",
    " </div>\n",
    "</div>\n",
    "\n",
    "*Image sources: Internet*"
   ]
  },
  {
   "cell_type": "markdown",
   "metadata": {},
   "source": [
    "Crowdfunding has become one of the main sources of initial capital for small businesses and start up companies that are looking to launch their first products. Websites like [Kickstart](https://www.kickstarter.com) and [Indiegogo](https://www.indiegogo.com/) provide a platform for millions of creators to present their innovative ideas to the public. This is a win-win situation where creators could accumulate initial fund while the public get access to cutting-edge prototypical products that are not available in the market yet.\n",
    "\n",
    "At any given point, Indiegogo has around 10,000 live campaigns while Kickstarter has 6,000. It has become increasingly difficult for projects to stand out of the crowd. Of course, advertisements via various channels are by far the most important factor to a successful campaign. However, for creators with a smaller budget, this leaves them wonder,\n",
    "\n",
    "**\"How do we increase the probability of success of our campaign starting from the very moment we create our project on these websites?\"**\n",
    "\n",
    "In particular, here are some of the questions we want to answer:\n",
    "* How do we write a better project title or blurb?\n",
    "    - Does the length matter?\n",
    "    - What are the keywords we should include?\n",
    "* How to set our award tiers so that people are more likely to pledge?\n",
    "* Does creating the project under a company rather than a person make a difference?\n",
    "* Does *\"aim high, shoot higher\"* work?\n",
    "    - Is there a correlation between overall percentage funded and initial pledge goal?\n",
    "* ... and many more"
   ]
  },
  {
   "cell_type": "markdown",
   "metadata": {},
   "source": [
    "[back to top](#)"
   ]
  },
  {
   "cell_type": "markdown",
   "metadata": {},
   "source": [
    "## Project Proposal\n"
   ]
  },
  {
   "cell_type": "markdown",
   "metadata": {},
   "source": [
    "[back to top](#)"
   ]
  },
  {
   "cell_type": "markdown",
   "metadata": {},
   "source": [
    "## Data Sources\n",
    "    Last updated: 2016-10-29 6pm PDT\n",
    "All of my raw data are scraped from [Kickstarter.com](https://www.kickstarter.com).\n",
    "\n",
    "There are currently two raw datasets:\n",
    "\n",
    "1. [First 4000 live projects](https://github.com/socathie/paperplane/blob/master/data/live.csv) that are currently campaigning on Kickstarter (scraped with Python [code](https://github.com/socathie/paperplane/blob/master/data/live.py) using BeautifulSoup)\n",
    "    - amt.pledged: amount pledged (float)\n",
    "    - blurb: project blurb (string)\n",
    "    - by: project creator (string)\n",
    "    - country: abbreviated country code (string of length 2)\n",
    "    - currency: currency type of amt.pledged (string of length 3)\n",
    "    - end.time: campaign end time (string \"YYYY-MM-DDThh:mm:ss-TZD\")\n",
    "    - location: mostly city (string)\n",
    "    - pecentage.funded: unit % (int)\n",
    "    - state: mostly US states (string of length 2) and others (string)\n",
    "    - title: project title (string)\n",
    "    - type: type of location (string: County/Island/LocalAdmin/Suburb/Town/Zip)\n",
    "    - url: project url after domain (string)\n",
    "\n",
    "2. [Top 4000 most backed projects](https://github.com/socathie/paperplane/blob/master/data/most_backed.csv) ever on Kickstarter (scraped with this [code](https://github.com/socathie/paperplane/blob/master/data/most_backed.py))\n",
    "    - amt.pledged\n",
    "    - blurb\n",
    "    - by\n",
    "    - category: project category (string)\n",
    "    - currency\n",
    "    - goal: original pledge goal (float)\n",
    "    - location\n",
    "    - num.backers: total number of backers (int)\n",
    "    - num.backers.tier: number of backers corresponds to the pledge amount in pledge.tier (int[len(pledge.tier)])\n",
    "    - pledge.tier: pledge tiers in USD (float[])\n",
    "    - title \n",
    "    - url \n",
    "\n",
    "### Limitations\n",
    "\n",
    "#### *Kickstarter*\n",
    "The website has certain rules for generating urls. For each seed value, the page number only goes up to at most 200. Given there are 20 projects per page, we can only get **at most 4000 non-duplicated data entries per iteration**. Therefore, if we want to analyze all of the 300,000+ projects on Kickstarter, we would need to generate a lot more seed values with a mix of different sorting orders to obtain a much larger sample before removing duplicated entries.\n",
    "\n",
    "Another downside with the data scraped from Kickstarter.com is that **they do not have the past unsuccessful projects indexed**. Failed projects can only be accessed if one has the original link (e.g. this [laser razor project](https://www.kickstarter.com/projects/skarp/the-skarp-laser-razor-21st-century-shaving?ref=profile_created) that was successfully funded but suspended by Kickstarter administration). Hence, if we were to use our current \"Most Backed\" data for maching learning, the result would be skewed and might lead to false positives.\n",
    "\n",
    "One way to go around this issue is to follow the current live projects until they end (the average duration is 30 days). In addition to a relatively fair sample, we would also gain additional meaningful data such as the pledge amount trend or number of backers over time.\n",
    "\n",
    "#### *Indiegogo*\n",
    "Indiegogo has a unique feature that Kickstarter does not - [flexible funding](https://support.indiegogo.com/hc/en-us/articles/205138007-Choose-Your-Funding-Type-Can-I-Keep-My-Money-). This feature makes it difficult to define a performance benchmark. Moreover, the url generated "
   ]
  },
  {
   "cell_type": "markdown",
   "metadata": {},
   "source": [
    "[back to top](#)"
   ]
  },
  {
   "cell_type": "markdown",
   "metadata": {},
   "source": [
    "## Key Plot 1\n",
    "### "
   ]
  },
  {
   "cell_type": "markdown",
   "metadata": {},
   "source": [
    "[back to top](#)"
   ]
  },
  {
   "cell_type": "markdown",
   "metadata": {},
   "source": [
    "## Key Plot 2\n",
    "### "
   ]
  },
  {
   "cell_type": "markdown",
   "metadata": {},
   "source": [
    "[back to top](#)"
   ]
  },
  {
   "cell_type": "markdown",
   "metadata": {},
   "source": [
    "## Future Directions\n"
   ]
  },
  {
   "cell_type": "markdown",
   "metadata": {},
   "source": [
    "[back to top](#)"
   ]
  },
  {
   "cell_type": "markdown",
   "metadata": {},
   "source": [
    "## More Plots"
   ]
  },
  {
   "cell_type": "markdown",
   "metadata": {},
   "source": [
    "[back to top](#)"
   ]
  }
 ],
 "metadata": {
  "kernelspec": {
   "display_name": "Python 2",
   "language": "python",
   "name": "python2"
  },
  "language_info": {
   "codemirror_mode": {
    "name": "ipython",
    "version": 2
   },
   "file_extension": ".py",
   "mimetype": "text/x-python",
   "name": "python",
   "nbconvert_exporter": "python",
   "pygments_lexer": "ipython2",
   "version": "2.7.12"
  }
 },
 "nbformat": 4,
 "nbformat_minor": 1
}
